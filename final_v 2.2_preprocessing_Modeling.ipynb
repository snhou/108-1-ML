{
 "cells": [
  {
   "cell_type": "code",
   "execution_count": 1,
   "metadata": {},
   "outputs": [],
   "source": [
    "import numpy as np\n",
    "import pandas as pd\n",
    "import matplotlib.pyplot as plt\n",
    "import seaborn as sns\n",
    "%matplotlib inline"
   ]
  },
  {
   "cell_type": "code",
   "execution_count": 2,
   "metadata": {},
   "outputs": [
    {
     "name": "stderr",
     "output_type": "stream",
     "text": [
      "C:\\Users\\ShawnHou\\Anaconda3\\lib\\site-packages\\ipykernel_launcher.py:3: FutureWarning: Sorting because non-concatenation axis is not aligned. A future version\n",
      "of pandas will change to not sort by default.\n",
      "\n",
      "To accept the future behavior, pass 'sort=False'.\n",
      "\n",
      "To retain the current behavior and silence the warning, pass 'sort=True'.\n",
      "\n",
      "  This is separate from the ipykernel package so we can avoid doing imports until\n"
     ]
    }
   ],
   "source": [
    "test_users = pd.read_csv(\"test_users.csv\")\n",
    "train_users = pd.read_csv(\"train_users_2.csv\")\n",
    "all_users = pd.concat((train_users, test_users), axis = 0, ignore_index = True)"
   ]
  },
  {
   "cell_type": "markdown",
   "metadata": {},
   "source": [
    "### 填補缺失值修改類別特徵"
   ]
  },
  {
   "cell_type": "code",
   "execution_count": 3,
   "metadata": {},
   "outputs": [
    {
     "data": {
      "text/plain": [
       "affiliate_channel               0\n",
       "affiliate_provider              0\n",
       "age                        116866\n",
       "country_destination         62096\n",
       "date_account_created            0\n",
       "date_first_booking         186639\n",
       "first_affiliate_tracked      6085\n",
       "first_browser                   0\n",
       "first_device_type               0\n",
       "gender                          0\n",
       "id                              0\n",
       "language                        0\n",
       "signup_app                      0\n",
       "signup_flow                     0\n",
       "signup_method                   0\n",
       "timestamp_first_active          0\n",
       "dtype: int64"
      ]
     },
     "execution_count": 3,
     "metadata": {},
     "output_type": "execute_result"
    }
   ],
   "source": [
    "all_users.isnull().sum()"
   ]
  },
  {
   "cell_type": "code",
   "execution_count": 4,
   "metadata": {},
   "outputs": [],
   "source": [
    "#刪除目標變數country_destination和過多缺失值的date_first_booking和Age\n",
    "all_users = all_users.drop(['date_first_booking','country_destination','age'],axis=1)\n",
    "#first_affiliate_tracked的untracked有143181"
   ]
  },
  {
   "cell_type": "code",
   "execution_count": 5,
   "metadata": {
    "collapsed": true
   },
   "outputs": [
    {
     "name": "stdout",
     "output_type": "stream",
     "text": [
      "direct           181571\n",
      "sem-brand         36439\n",
      "sem-non-brand     20075\n",
      "seo               14362\n",
      "other              9547\n",
      "api                8167\n",
      "content            4118\n",
      "remarketing        1268\n",
      "Name: affiliate_channel, dtype: int64\n",
      "======================================\n",
      "direct                 181270\n",
      "google                  65956\n",
      "other                   13036\n",
      "facebook                 3996\n",
      "bing                     3719\n",
      "craigslist               3475\n",
      "padmapper                 836\n",
      "vast                      830\n",
      "yahoo                     653\n",
      "facebook-open-graph       566\n",
      "gsp                       455\n",
      "meetup                    358\n",
      "email-marketing           270\n",
      "naver                      66\n",
      "baidu                      32\n",
      "yandex                     18\n",
      "wayn                        8\n",
      "daum                        3\n",
      "Name: affiliate_provider, dtype: int64\n",
      "======================================\n",
      "2014-07-23    1105\n",
      "2014-07-22    1052\n",
      "2014-07-17     978\n",
      "2014-07-24     923\n",
      "2014-07-18     892\n",
      "2014-07-21     888\n",
      "2014-08-27     872\n",
      "2014-08-26     841\n",
      "2014-07-29     816\n",
      "2014-08-06     790\n",
      "2014-07-30     786\n",
      "2014-08-12     785\n",
      "2014-08-11     781\n",
      "2014-08-28     772\n",
      "2014-08-05     772\n",
      "2014-07-28     764\n",
      "2014-07-16     757\n",
      "2014-07-25     754\n",
      "2014-09-16     751\n",
      "2014-07-31     751\n",
      "2014-08-14     742\n",
      "2014-08-19     741\n",
      "2014-08-07     739\n",
      "2014-09-10     739\n",
      "2014-07-20     738\n",
      "2014-08-08     738\n",
      "2014-08-13     731\n",
      "2014-09-03     729\n",
      "2014-08-04     728\n",
      "2014-08-25     725\n",
      "              ... \n",
      "2010-02-08       2\n",
      "2010-01-21       2\n",
      "2010-04-16       2\n",
      "2010-03-28       2\n",
      "2010-05-29       2\n",
      "2010-03-04       2\n",
      "2010-06-26       2\n",
      "2010-06-12       2\n",
      "2010-01-13       2\n",
      "2010-01-30       2\n",
      "2010-02-04       2\n",
      "2010-03-21       2\n",
      "2010-01-16       2\n",
      "2010-04-08       2\n",
      "2010-02-17       2\n",
      "2010-02-18       2\n",
      "2010-01-01       1\n",
      "2010-01-03       1\n",
      "2010-01-02       1\n",
      "2010-01-28       1\n",
      "2010-02-14       1\n",
      "2010-01-31       1\n",
      "2010-01-23       1\n",
      "2010-04-11       1\n",
      "2010-01-08       1\n",
      "2010-04-24       1\n",
      "2010-06-18       1\n",
      "2010-04-01       1\n",
      "2010-01-19       1\n",
      "2010-03-09       1\n",
      "Name: date_account_created, Length: 1726, dtype: int64\n",
      "======================================\n",
      "untracked        143181\n",
      "linked            62064\n",
      "omg               54859\n",
      "tracked-other      6655\n",
      "NaN                6085\n",
      "product            2353\n",
      "marketing           281\n",
      "local ops            69\n",
      "Name: first_affiliate_tracked, dtype: int64\n",
      "======================================\n",
      "Chrome                  78671\n",
      "Safari                  53302\n",
      "-unknown-               44394\n",
      "Firefox                 38665\n",
      "Mobile Safari           29636\n",
      "IE                      24744\n",
      "Chrome Mobile            3186\n",
      "Android Browser          1577\n",
      "AOL Explorer              254\n",
      "Opera                     228\n",
      "Silk                      172\n",
      "IE Mobile                 118\n",
      "BlackBerry Browser         89\n",
      "Chromium                   83\n",
      "Mobile Firefox             64\n",
      "Maxthon                    60\n",
      "Apple Mail                 45\n",
      "Sogou Explorer             43\n",
      "SiteKiosk                  27\n",
      "RockMelt                   24\n",
      "Iron                       24\n",
      "Yandex.Browser             14\n",
      "IceWeasel                  14\n",
      "Pale Moon                  13\n",
      "CometBird                  12\n",
      "SeaMonkey                  12\n",
      "Camino                      9\n",
      "TenFourFox                  8\n",
      "Opera Mini                  8\n",
      "wOSBrowser                  7\n",
      "CoolNovo                    6\n",
      "Opera Mobile                4\n",
      "Avant Browser               4\n",
      "Mozilla                     3\n",
      "SlimBrowser                 2\n",
      "Comodo Dragon               2\n",
      "OmniWeb                     2\n",
      "Crazy Browser               2\n",
      "TheWorld Browser            2\n",
      "Flock                       2\n",
      "Stainless                   1\n",
      "Palm Pre web browser        1\n",
      "Arora                       1\n",
      "NetNewsWire                 1\n",
      "Outlook 2007                1\n",
      "UC Browser                  1\n",
      "IBrowse                     1\n",
      "Google Earth                1\n",
      "Googlebot                   1\n",
      "Nintendo Browser            1\n",
      "PS Vita browser             1\n",
      "Epic                        1\n",
      "Conkeror                    1\n",
      "IceDragon                   1\n",
      "Kindle Browser              1\n",
      "Name: first_browser, dtype: int64\n",
      "======================================\n",
      "Mac Desktop           106328\n",
      "Windows Desktop        86948\n",
      "iPhone                 39814\n",
      "iPad                   18036\n",
      "Other/Unknown          11167\n",
      "Android Phone           9458\n",
      "Android Tablet          2098\n",
      "Desktop (Other)         1507\n",
      "SmartPhone (Other)       191\n",
      "Name: first_device_type, dtype: int64\n",
      "======================================\n",
      "-unknown-    129480\n",
      "FEMALE        77524\n",
      "MALE          68209\n",
      "OTHER           334\n",
      "Name: gender, dtype: int64\n",
      "======================================\n",
      "5glavnz5ac    1\n",
      "jj4ckqpiri    1\n",
      "8qvsg7ppo0    1\n",
      "mzc75fti6v    1\n",
      "tyetmzvkg4    1\n",
      "6xbnqphx9y    1\n",
      "bp7qxj8jhh    1\n",
      "x6hxhdqv9h    1\n",
      "wrg7x55vtd    1\n",
      "ob7uesl2sp    1\n",
      "n1h9031lwy    1\n",
      "ju26mjfvco    1\n",
      "az0t6p6g4z    1\n",
      "o1q75pvtev    1\n",
      "1t8sveotz5    1\n",
      "sjgugddm1g    1\n",
      "np60yrmsqh    1\n",
      "c3ar45rrtb    1\n",
      "n878639vl5    1\n",
      "ehpsz4llv9    1\n",
      "tkyyenfyx4    1\n",
      "7dql7n6rcp    1\n",
      "726zs7ljz4    1\n",
      "v0p321784z    1\n",
      "4o5yje5rqg    1\n",
      "oxf2u1nfbq    1\n",
      "uxvga8eo91    1\n",
      "xtek3osng2    1\n",
      "dx897p9xn7    1\n",
      "20xzekz0pb    1\n",
      "             ..\n",
      "wg1ri05coy    1\n",
      "kk80bov5t7    1\n",
      "xpxqgia0pc    1\n",
      "3it3ru65ln    1\n",
      "i2uzidzzlr    1\n",
      "j9pg043uvl    1\n",
      "qxsr4g4917    1\n",
      "tfbf6kztts    1\n",
      "j1a8wbdtn7    1\n",
      "o2oc14mrxc    1\n",
      "s5k6wdu3n7    1\n",
      "bhny2nlroj    1\n",
      "emmzan38q9    1\n",
      "16nc16k2oc    1\n",
      "jhe0hpnzbu    1\n",
      "pv1qhui5we    1\n",
      "83w407i5e1    1\n",
      "0eu56bcswz    1\n",
      "lqjq6fkvg2    1\n",
      "5ce3ywka3x    1\n",
      "hz8iqhxkla    1\n",
      "d7w6ktxx2i    1\n",
      "4nrpyoty5t    1\n",
      "hq7z723dr7    1\n",
      "2y8zadrj7j    1\n",
      "oork9j11ri    1\n",
      "2iksutki5h    1\n",
      "jfo7vw7n5n    1\n",
      "zi1r935j4w    1\n",
      "68ijb0pukz    1\n",
      "Name: id, Length: 275547, dtype: int64\n",
      "======================================\n",
      "en           265538\n",
      "zh             2634\n",
      "fr             1508\n",
      "es             1174\n",
      "ko             1116\n",
      "de              977\n",
      "it              633\n",
      "ru              508\n",
      "ja              345\n",
      "pt              322\n",
      "sv              176\n",
      "nl              134\n",
      "tr               92\n",
      "da               75\n",
      "pl               75\n",
      "no               51\n",
      "cs               49\n",
      "el               30\n",
      "th               28\n",
      "hu               25\n",
      "id               23\n",
      "fi               20\n",
      "ca                6\n",
      "is                5\n",
      "hr                2\n",
      "-unknown-         1\n",
      "Name: language, dtype: int64\n",
      "======================================\n",
      "Web        219918\n",
      "iOS         34593\n",
      "Android     10519\n",
      "Moweb       10517\n",
      "Name: signup_app, dtype: int64\n",
      "======================================\n",
      "0     206092\n",
      "25     29834\n",
      "12     11244\n",
      "3       8822\n",
      "2       6881\n",
      "23      6408\n",
      "24      4328\n",
      "1       1047\n",
      "8        315\n",
      "6        301\n",
      "21       197\n",
      "5         36\n",
      "20        14\n",
      "16        11\n",
      "15        10\n",
      "14         4\n",
      "10         2\n",
      "4          1\n",
      "Name: signup_flow, dtype: int64\n",
      "======================================\n",
      "basic       198222\n",
      "facebook     74864\n",
      "google        2438\n",
      "weibo           23\n",
      "Name: signup_method, dtype: int64\n",
      "======================================\n",
      "20140925222609    1\n",
      "20130611202453    1\n",
      "20140523060335    1\n",
      "20131012225521    1\n",
      "20140629210724    1\n",
      "20120712053236    1\n",
      "20130825050615    1\n",
      "20140627171815    1\n",
      "20120120185326    1\n",
      "20140414004333    1\n",
      "20121229081114    1\n",
      "20140214051304    1\n",
      "20130726044056    1\n",
      "20140204102038    1\n",
      "20120807025041    1\n",
      "20140720013724    1\n",
      "20130316030358    1\n",
      "20140402225650    1\n",
      "20140831183238    1\n",
      "20140210161251    1\n",
      "20120418054538    1\n",
      "20130923200908    1\n",
      "20130926121642    1\n",
      "20130611235205    1\n",
      "20140917201335    1\n",
      "20140622021044    1\n",
      "20140227003150    1\n",
      "20140215185842    1\n",
      "20130717192638    1\n",
      "20121130052017    1\n",
      "                 ..\n",
      "20140602171304    1\n",
      "20140726214602    1\n",
      "20140107224913    1\n",
      "20120711180126    1\n",
      "20140930200300    1\n",
      "20140416024412    1\n",
      "20140924045147    1\n",
      "20140428190846    1\n",
      "20130714031945    1\n",
      "20130307194700    1\n",
      "20131019175757    1\n",
      "20140926222851    1\n",
      "20131213172544    1\n",
      "20140501163834    1\n",
      "20131225225027    1\n",
      "20140701194057    1\n",
      "20130124175225    1\n",
      "20120926064506    1\n",
      "20140728003014    1\n",
      "20130313193028    1\n",
      "20111125041010    1\n",
      "20120127063923    1\n",
      "20131010234227    1\n",
      "20140407033722    1\n",
      "20130811015030    1\n",
      "20140616220516    1\n",
      "20130514222956    1\n",
      "20121220163439    1\n",
      "20140616212320    1\n",
      "20131104235813    1\n",
      "Name: timestamp_first_active, Length: 275547, dtype: int64\n",
      "======================================\n"
     ]
    }
   ],
   "source": [
    "#查看每個類別當中的unknown\n",
    "for i in all_users.columns:\n",
    "    print(all_users[i].value_counts(dropna=False))\n",
    "    print('======================================')\n",
    "#unknown:gender有129480、first_browser有44394、lanuage:1"
   ]
  },
  {
   "cell_type": "code",
   "execution_count": 6,
   "metadata": {},
   "outputs": [],
   "source": [
    "#刪除在EDA已修改過的column\n",
    "all_users['date_account_created'] = pd.to_datetime(all_users['date_account_created'])\n",
    "all_users['dac_year'] = all_users.date_account_created.dt.year\n",
    "all_users['dac_month'] = all_users.date_account_created.dt.month\n",
    "all_users['dac_day'] = all_users.date_account_created.dt.day\n",
    "all_users['date_first_active'] = pd.to_datetime(all_users.timestamp_first_active // 1000000, format = '%Y%m%d')\n",
    "all_users['dfa_year'] = all_users.date_first_active.dt.year\n",
    "all_users['dfa_month'] = all_users.date_first_active.dt.month\n",
    "all_users['dfa_day'] = all_users.date_first_active.dt.day\n",
    "all_users = all_users.drop(['timestamp_first_active','date_account_created','id','date_first_active'],axis=1)"
   ]
  },
  {
   "cell_type": "code",
   "execution_count": 7,
   "metadata": {},
   "outputs": [],
   "source": [
    "#all_users.head()"
   ]
  },
  {
   "cell_type": "code",
   "execution_count": 8,
   "metadata": {},
   "outputs": [],
   "source": [
    "from sklearn.preprocessing import LabelEncoder\n",
    "le = LabelEncoder()"
   ]
  },
  {
   "cell_type": "code",
   "execution_count": 9,
   "metadata": {},
   "outputs": [],
   "source": [
    "all_users.affiliate_channel = le.fit_transform(all_users.affiliate_channel)\n",
    "all_users.affiliate_provider = le.fit_transform(all_users.affiliate_provider)\n",
    "all_users.first_device_type = le.fit_transform(all_users.first_device_type)\n",
    "all_users.first_browser = le.fit_transform(all_users.first_browser)\n",
    "all_users.signup_app = le.fit_transform(all_users.signup_app)\n",
    "all_users.signup_method = le.fit_transform(all_users.signup_method)\n",
    "all_users.gender = le.fit_transform(all_users.gender)"
   ]
  },
  {
   "cell_type": "code",
   "execution_count": 10,
   "metadata": {},
   "outputs": [],
   "source": [
    "#all_users.head()"
   ]
  },
  {
   "cell_type": "code",
   "execution_count": 11,
   "metadata": {},
   "outputs": [],
   "source": [
    "all_users.loc[all_users.language == '-unknown-', 'language'] = all_users.language.mode()[0]\n",
    "all_users.language = le.fit_transform(all_users.language)"
   ]
  },
  {
   "cell_type": "code",
   "execution_count": 12,
   "metadata": {},
   "outputs": [],
   "source": [
    "all_users.loc[all_users.first_affiliate_tracked.isnull(), 'first_affiliate_tracked'] = 'untracked'\n",
    "all_users.first_affiliate_tracked = le.fit_transform(all_users.first_affiliate_tracked)"
   ]
  },
  {
   "cell_type": "code",
   "execution_count": 13,
   "metadata": {},
   "outputs": [],
   "source": [
    "#all_users.head()"
   ]
  },
  {
   "cell_type": "code",
   "execution_count": 14,
   "metadata": {},
   "outputs": [
    {
     "data": {
      "text/plain": [
       "((213451, 16), (62096, 16), (213451,))"
      ]
     },
     "execution_count": 14,
     "metadata": {},
     "output_type": "execute_result"
    }
   ],
   "source": [
    "X_train = all_users[:train_users.shape[0]]#train的feature\n",
    "X_test = all_users[train_users.shape[0]:]#上傳kaggle的\n",
    "y_train = train_users.country_destination#train的target\n",
    "y_train = le.fit_transform(y_train)\n",
    "X_train.shape,X_test.shape,y_train.shape"
   ]
  },
  {
   "cell_type": "code",
   "execution_count": 15,
   "metadata": {},
   "outputs": [],
   "source": [
    "from sklearn.model_selection import train_test_split\n",
    "\n",
    "[train_data, test_data, train_target, test_target] = train_test_split(X_train, y_train, test_size = 0.3, random_state = 87)"
   ]
  },
  {
   "cell_type": "code",
   "execution_count": 16,
   "metadata": {},
   "outputs": [],
   "source": [
    "#用PCA取出較重要的類別\n",
    "from sklearn.decomposition import PCA\n",
    "pca = PCA(n_components=2)\n",
    "train_data_pca = pca.fit_transform(train_data)\n",
    "test_data_pca = pca.fit_transform(test_data)"
   ]
  },
  {
   "cell_type": "code",
   "execution_count": 17,
   "metadata": {
    "scrolled": true
   },
   "outputs": [
    {
     "name": "stderr",
     "output_type": "stream",
     "text": [
      "C:\\Users\\ShawnHou\\Anaconda3\\lib\\site-packages\\sklearn\\linear_model\\logistic.py:433: FutureWarning: Default solver will be changed to 'lbfgs' in 0.22. Specify a solver to silence this warning.\n",
      "  FutureWarning)\n",
      "C:\\Users\\ShawnHou\\Anaconda3\\lib\\site-packages\\sklearn\\linear_model\\logistic.py:460: FutureWarning: Default multi_class will be changed to 'auto' in 0.22. Specify the multi_class option to silence this warning.\n",
      "  \"this warning.\", FutureWarning)\n"
     ]
    },
    {
     "name": "stdout",
     "output_type": "stream",
     "text": [
      "train_score:0.583\n",
      "test_score:0.585\n"
     ]
    }
   ],
   "source": [
    "from sklearn.linear_model import LogisticRegression\n",
    "lr = LogisticRegression(C=100.0, random_state=87)\n",
    "lr.fit(train_data_pca, train_target)\n",
    "print('train_score:%.3f'%(lr.score(train_data_pca, train_target)))\n",
    "print('test_score:%.3f'%(lr.score(test_data_pca, test_target)))"
   ]
  },
  {
   "cell_type": "code",
   "execution_count": 23,
   "metadata": {},
   "outputs": [
    {
     "name": "stdout",
     "output_type": "stream",
     "text": [
      "train_score:0.583\n",
      "test_score:0.585\n"
     ]
    }
   ],
   "source": [
    "from sklearn.naive_bayes import GaussianNB\n",
    "gnb = GaussianNB()\n",
    "gnb.fit(train_data_pca, train_target)\n",
    "print('train_score:%.3f'%(gnb.score(train_data_pca, train_target)))\n",
    "print('test_score:%.3f'%(gnb.score(test_data_pca, test_target)))"
   ]
  },
  {
   "cell_type": "code",
   "execution_count": 19,
   "metadata": {},
   "outputs": [
    {
     "name": "stdout",
     "output_type": "stream",
     "text": [
      "train_score:0.594\n",
      "test_score:0.580\n"
     ]
    }
   ],
   "source": [
    "from sklearn.ensemble import GradientBoostingClassifier\n",
    "gb = GradientBoostingClassifier(max_depth = 4, n_estimators = 100, random_state = 87)\n",
    "#gb.fit(train_data, train_target)\n",
    "#print('train_score:%.5f'%(gb.score(train_data, train_target)))\n",
    "#print('test_score:%.5f'%(gb.score(test_data, test_target)))\n",
    "gb.fit(train_data_pca, train_target)\n",
    "print('train_score:%.3f'%(gb.score(train_data_pca, train_target)))\n",
    "print('test_score:%.3f'%(gb.score(test_data_pca, test_target)))"
   ]
  },
  {
   "cell_type": "code",
   "execution_count": 21,
   "metadata": {},
   "outputs": [
    {
     "name": "stdout",
     "output_type": "stream",
     "text": [
      "train_score:0.586\n",
      "test_score:0.586\n"
     ]
    }
   ],
   "source": [
    "from xgboost.sklearn import XGBClassifier\n",
    "xgb = XGBClassifier(max_depth=6, learning_rate=0.3, n_estimators=22,\n",
    "                    objective='multi:softprob', subsample=0.6, colsample_bytree=0.6, seed=87)               \n",
    "xgb.fit(train_data_pca, train_target)\n",
    "print('train_score:%.3f'%(xgb.score(train_data_pca, train_target)))\n",
    "print('test_score:%.3f'%(xgb.score(test_data_pca, test_target)))"
   ]
  },
  {
   "cell_type": "markdown",
   "metadata": {},
   "source": [
    "發現xgboost的test score分數叫好解沒有overfitting現象，決定使用"
   ]
  },
  {
   "cell_type": "code",
   "execution_count": 30,
   "metadata": {},
   "outputs": [],
   "source": [
    "from sklearn.decomposition import PCA\n",
    "pca = PCA(n_components=2)\n",
    "X_test = pca.fit_transform(X_test)\n",
    "X_train = pca.fit_transform(X_train)"
   ]
  },
  {
   "cell_type": "code",
   "execution_count": 31,
   "metadata": {},
   "outputs": [
    {
     "data": {
      "text/plain": [
       "XGBClassifier(base_score=0.5, booster='gbtree', colsample_bylevel=1,\n",
       "       colsample_bynode=1, colsample_bytree=0.6, gamma=0,\n",
       "       learning_rate=0.3, max_delta_step=0, max_depth=6,\n",
       "       min_child_weight=1, missing=None, n_estimators=22, n_jobs=1,\n",
       "       nthread=None, objective='multi:softprob', random_state=0,\n",
       "       reg_alpha=0, reg_lambda=1, scale_pos_weight=1, seed=87, silent=None,\n",
       "       subsample=0.6, verbosity=1)"
      ]
     },
     "execution_count": 31,
     "metadata": {},
     "output_type": "execute_result"
    }
   ],
   "source": [
    "xgb.fit(X_train, y_train)"
   ]
  },
  {
   "cell_type": "code",
   "execution_count": 32,
   "metadata": {},
   "outputs": [],
   "source": [
    "XBG_pred_proba = xgb.predict_proba(X_test)"
   ]
  },
  {
   "cell_type": "code",
   "execution_count": 35,
   "metadata": {},
   "outputs": [],
   "source": [
    "test_ids = test_users['id']\n",
    "ids = []  \n",
    "cts = []  \n",
    "for i in range(len(test_ids)):\n",
    "    idx = test_ids[i]\n",
    "    ids += [idx] * 5\n",
    "    cts += le.inverse_transform(np.argsort(XBG_pred_proba[i])[::-1])[:5].tolist()\n",
    "\n",
    "#Generate submission\n",
    "sub = pd.DataFrame(np.column_stack((ids, cts)), columns=['id', 'country'])\n",
    "sub.to_csv('pca_submission.csv',index=False)"
   ]
  }
 ],
 "metadata": {
  "kernelspec": {
   "display_name": "Python 3",
   "language": "python",
   "name": "python3"
  },
  "language_info": {
   "codemirror_mode": {
    "name": "ipython",
    "version": 3
   },
   "file_extension": ".py",
   "mimetype": "text/x-python",
   "name": "python",
   "nbconvert_exporter": "python",
   "pygments_lexer": "ipython3",
   "version": "3.7.3"
  }
 },
 "nbformat": 4,
 "nbformat_minor": 2
}
